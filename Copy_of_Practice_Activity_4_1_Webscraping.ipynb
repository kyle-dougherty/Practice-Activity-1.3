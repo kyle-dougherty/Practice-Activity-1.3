{
  "nbformat": 4,
  "nbformat_minor": 0,
  "metadata": {
    "colab": {
      "provenance": []
    },
    "kernelspec": {
      "name": "python3",
      "display_name": "Python 3"
    },
    "language_info": {
      "name": "python"
    }
  },
  "cells": [
    {
      "cell_type": "markdown",
      "source": [
        "# XML, HTML, and Web Scraping\n",
        "\n",
        "JSON and XML are two different ways to represent hierarchical data. Which one is better? There are lots of articles online which discuss similarities and differences between JSON and XML and their advantages and disadvantages. Both formats are still in current usage, so it is good to be familiar with both. However, JSON is more common, so we'll focus on working with JSON representations of hierarchical data.\n",
        "\n",
        "The reading covered an example of using Beautiful Soup to parse XML. Rather than doing another example XML now, we'll skip straight to scraping HTML from a webpage. Both HTML and XML can be parsed in a similar way with Beautiful Soup."
      ],
      "metadata": {
        "id": "qrJX4FDa8oA8"
      }
    },
    {
      "cell_type": "code",
      "source": [
        "import pandas as pd"
      ],
      "metadata": {
        "id": "XZhT8jhbuZSg"
      },
      "execution_count": 1,
      "outputs": []
    },
    {
      "cell_type": "markdown",
      "source": [
        "## Scraping an HTML table with Beautiful Soup"
      ],
      "metadata": {
        "id": "ApqnMQ4iV4qu"
      }
    },
    {
      "cell_type": "markdown",
      "source": [
        "Open the URL https://en.wikipedia.org/wiki/List_of_United_States_cities_by_population and scroll down until you see a table of the cities in the U.S. with population over 100,000 (as of Jul 1, 2022). We'll use Beautiful Soup to scrape information from this table."
      ],
      "metadata": {
        "id": "9SD7XOs_So3G"
      }
    },
    {
      "cell_type": "markdown",
      "source": [
        "Read in the HTML from the ULR using the `requests` library."
      ],
      "metadata": {
        "id": "HRmnzgaQS_T0"
      }
    },
    {
      "cell_type": "code",
      "source": [
        "url = \"https://en.wikipedia.org/wiki/List_of_United_States_cities_by_population\"\n",
        "headers = {\"User-Agent\": \"Mozilla/5.0\"}\n",
        "response = requests.get(url, headers=headers)\n",
        "html = response.text\n",
        "print(html[:500])\n",
        "\n",
        "\n"
      ],
      "metadata": {
        "id": "xvYzbSospYVu",
        "colab": {
          "base_uri": "https://localhost:8080/"
        },
        "outputId": "a0e91bb0-3a75-432d-81ba-1a4cbffb16cd"
      },
      "execution_count": 5,
      "outputs": [
        {
          "output_type": "stream",
          "name": "stdout",
          "text": [
            "<!DOCTYPE html>\n",
            "<html class=\"client-nojs vector-feature-language-in-header-enabled vector-feature-language-in-main-page-header-disabled vector-feature-page-tools-pinned-disabled vector-feature-toc-pinned-clientpref-1 vector-feature-main-menu-pinned-disabled vector-feature-limited-width-clientpref-1 vector-feature-limited-width-content-enabled vector-feature-custom-font-size-clientpref-1 vector-feature-appearance-pinned-clientpref-1 vector-feature-night-mode-enabled skin-theme-clientpref-day vect\n"
          ]
        }
      ]
    },
    {
      "cell_type": "markdown",
      "source": [
        "Use Beautiful Soup to parse this string into a tree called `soup`"
      ],
      "metadata": {
        "id": "YJ1Swg6B82_J"
      }
    },
    {
      "cell_type": "code",
      "source": [
        "soup = BeautifulSoup(html, \"lxml\")\n",
        "soup.title.get_text()\n"
      ],
      "metadata": {
        "id": "e0jpmfwtpaEB",
        "colab": {
          "base_uri": "https://localhost:8080/",
          "height": 35
        },
        "outputId": "492bb3c0-d5ec-44f4-c6b2-96e7348357b8"
      },
      "execution_count": 6,
      "outputs": [
        {
          "output_type": "execute_result",
          "data": {
            "text/plain": [
              "'List of United States cities by population - Wikipedia'"
            ],
            "application/vnd.google.colaboratory.intrinsic+json": {
              "type": "string"
            }
          },
          "metadata": {},
          "execution_count": 6
        }
      ]
    },
    {
      "cell_type": "markdown",
      "source": [
        "To find an HTML tag corresponding to a specific element on a webpage, right-click on it and choose \"Inspect element\". Go to the cities table Wikipedia page and do this now.\n",
        "\n",
        "You should find that the cities table on the Wikipedia page corresponds to the element\n",
        "\n",
        "```\n",
        "<table class=\"wikitable sortable jquery-tablesorter\" style=\"text-align:center\">\n",
        "```"
      ],
      "metadata": {
        "id": "lFxGW_KIDjnx"
      }
    },
    {
      "cell_type": "markdown",
      "source": [
        "There are many `<table>` tags on the page."
      ],
      "metadata": {
        "id": "DR50aTBZEwov"
      }
    },
    {
      "cell_type": "code",
      "source": [
        "len(soup.find_all(\"table\"))"
      ],
      "metadata": {
        "id": "4691d-EGEwc0",
        "colab": {
          "base_uri": "https://localhost:8080/"
        },
        "outputId": "f6449d2a-c365-4f3a-c730-e005989a2028"
      },
      "execution_count": 7,
      "outputs": [
        {
          "output_type": "execute_result",
          "data": {
            "text/plain": [
              "10"
            ]
          },
          "metadata": {},
          "execution_count": 7
        }
      ]
    },
    {
      "cell_type": "markdown",
      "source": [
        "We can use attributes like `class=` and `style=` to narrow down the list."
      ],
      "metadata": {
        "id": "H1xslM2yE1GI"
      }
    },
    {
      "cell_type": "code",
      "source": [
        "len(soup.find_all(\"table\",\n",
        "                  attrs={\n",
        "                      \"class\": \"wikitable sortable\",\n",
        "                      \"style\": \"text-align:center\"}\n",
        "                  ))"
      ],
      "metadata": {
        "id": "E0Q0sa46DvTZ",
        "colab": {
          "base_uri": "https://localhost:8080/"
        },
        "outputId": "86ff5a5f-3b73-4422-b7ae-f1c00a2d9ed1"
      },
      "execution_count": 8,
      "outputs": [
        {
          "output_type": "execute_result",
          "data": {
            "text/plain": [
              "0"
            ]
          },
          "metadata": {},
          "execution_count": 8
        }
      ]
    },
    {
      "cell_type": "markdown",
      "source": [
        "At this point, you can manually inspect the tables on the webpage to find that the one we want is the first one (see `[0]` below). We'll store this as `table`."
      ],
      "metadata": {
        "id": "ndnRSJJiFFby"
      }
    },
    {
      "cell_type": "code",
      "source": [
        "table = soup.find_all(\"table\",\n",
        "                  attrs={\n",
        "                      \"class\": \"wikitable sortable\",\n",
        "                      \"style\": \"text-align:center\"}\n",
        "                  )[0]"
      ],
      "metadata": {
        "id": "sRBSqVGlYhuT"
      },
      "execution_count": null,
      "outputs": []
    },
    {
      "cell_type": "markdown",
      "source": [
        "**Now you will write code to scrape the information in `table` to create a Pandas data frame with one row for each city and columns for: city, state, population (2022 estimate), and 2020 land area (sq mi).** Refer to the Notes/suggestions below as you write your code. A few Hints are provided further down, but try coding first before looking at the hints."
      ],
      "metadata": {
        "id": "j4AWo3QoYqNY"
      }
    },
    {
      "cell_type": "markdown",
      "source": [
        "Notes/suggestions:\n",
        "\n",
        "- Use as a guide the code from the reading that produced the data frame of Statistics faculty\n",
        "- Inspect the page source as you write your code\n",
        "- You will need to write a loop to get the information for all cities, but you might want to try just scraping the info for New York first\n",
        "- You will need to pull the text from the tag. If `.text` returns text with \"\\n\" at the end, try `.get_text(strip = True)` instead of `.text`\n",
        "- Don't forget to convert to a Pandas Data Frame; it should have 333 rows and 4 columns\n",
        "- The goal of this exercise is just to create the Data Frame. If you were going to use it --- e.g., what is the population density for all cities in CA? --- then you would need to clean the data first (to clean strings and convert to quantitative). (You can use Beautiful Soup to do some of the cleaning for you, but that goes beyond our scope.)"
      ],
      "metadata": {
        "id": "KfRx2_XlDUqD"
      }
    },
    {
      "cell_type": "code",
      "source": [
        "# YOUR CODE HERE. ADD AS MANY CELLS AS NEEDED"
      ],
      "metadata": {
        "id": "msKiUcOZpSX7"
      },
      "execution_count": null,
      "outputs": []
    },
    {
      "cell_type": "code",
      "source": [
        "tables = soup.find_all(\"table\")\n",
        "target = None\n",
        "for t in tables:\n",
        "    hdrs = \" \".join(th.get_text(strip=True).lower() for th in t.find_all(\"th\"))\n",
        "    if \"city\" in hdrs and \"land area\" in hdrs and \"estimate\" in hdrs:\n",
        "        target = t\n",
        "        break\n",
        "\n",
        "if target is None:\n",
        "    raise ValueError(\"No matching table found\")\n",
        "\n",
        "rows = []\n",
        "for tr in target.find_all(\"tr\")[1:]:\n",
        "    cells = tr.find_all([\"td\",\"th\"])\n",
        "    if len(cells) < 7:\n",
        "        continue\n",
        "    city = cells[1].get_text(strip=True)\n",
        "    state = cells[2].get_text(strip=True)\n",
        "    pop = cells[3].get_text(strip=True)\n",
        "    land = cells[6].get_text(strip=True)\n",
        "    rows.append({\n",
        "        \"city\": city,\n",
        "        \"state\": state,\n",
        "        \"population_estimate\": pop,\n",
        "        \"land_area_sq_mi_2020\": land\n",
        "    })\n",
        "\n",
        "df_cities = pd.DataFrame(rows, columns=[\"city\",\"state\",\"population_estimate\",\"land_area_sq_mi_2020\"])\n",
        "df_cities.shape, df_cities.head()\n"
      ],
      "metadata": {
        "id": "1M23w-PPtUyw",
        "colab": {
          "base_uri": "https://localhost:8080/"
        },
        "outputId": "d9f8ddd8-b126-425c-c1bf-6bd70f7fe351"
      },
      "execution_count": 13,
      "outputs": [
        {
          "output_type": "execute_result",
          "data": {
            "text/plain": [
              "((346, 4),\n",
              "   city      state population_estimate land_area_sq_mi_2020\n",
              " 0   NY  8,478,072           8,804,190                778.3\n",
              " 1   CA  3,878,704           3,898,747              1,216.0\n",
              " 2   IL  2,721,308           2,746,388                589.7\n",
              " 3   TX  2,390,125           2,304,580              1,658.6\n",
              " 4   AZ  1,673,164           1,608,139              1,341.6)"
            ]
          },
          "metadata": {},
          "execution_count": 13
        }
      ]
    },
    {
      "cell_type": "markdown",
      "source": [
        "Hints:\n",
        "\n",
        "- Each city is a row in the table; find all the `<tr>` tags to find all the cities\n",
        "- Look for the `<td>` tag to see table entries within a row\n",
        "- The rank column is represented by `<th>` tags, rather than `<td>` tags. So within a row, the first (that is, `[0]`) `<td>` tag corresponds to the city name."
      ],
      "metadata": {
        "id": "6s3tH82XZ1X0"
      }
    },
    {
      "cell_type": "markdown",
      "source": [
        "## Aside: Scraping an HTML table with Pandas\n",
        "\n"
      ],
      "metadata": {
        "id": "pIW4UgURNdhz"
      }
    },
    {
      "cell_type": "markdown",
      "source": [
        "The Pandas command `read_html` can be used to scrape information from an HTML table on a webpage.\n",
        "\n",
        "We can call `read_html` on the URL."
      ],
      "metadata": {
        "id": "R2ufAAMGYenH"
      }
    },
    {
      "cell_type": "code",
      "source": [
        "import requests, pandas as pd\n",
        "from io import StringIO\n",
        "\n",
        "url = \"https://en.wikipedia.org/wiki/List_of_United_States_cities_by_population\"\n",
        "html = requests.get(url, headers={\"User-Agent\": \"Mozilla/5.0\"}).text\n",
        "tables = pd.read_html(StringIO(html), flavor=\"lxml\")\n",
        "\n",
        "pick = None\n",
        "for df in tables:\n",
        "    cols = [str(c).lower() for c in df.columns]\n",
        "    if any(\"city\" in c for c in cols) and any(\"land area\" in c for c in cols):\n",
        "        pick = df\n",
        "        break\n",
        "\n",
        "df_cities2 = pick\n",
        "df_cities2.shape, df_cities2.head()\n",
        "\n"
      ],
      "metadata": {
        "id": "YnGD1hMbpv7H",
        "colab": {
          "base_uri": "https://localhost:8080/"
        },
        "outputId": "1a954862-456f-4bd3-c237-efd4241a60ab"
      },
      "execution_count": 18,
      "outputs": [
        {
          "output_type": "execute_result",
          "data": {
            "text/plain": [
              "((346, 10),\n",
              "           City  ST 2024 estimate 2020 census  Change 2020 land area          \\\n",
              "           City  ST 2024 estimate 2020 census  Change            mi2     km2   \n",
              " 0  New York[c]  NY       8478072     8804190  −3.70%          300.5   778.3   \n",
              " 1  Los Angeles  CA       3878704     3898747  −0.51%          469.5  1216.0   \n",
              " 2      Chicago  IL       2721308     2746388  −0.91%          227.7   589.7   \n",
              " 3      Houston  TX       2390125     2304580  +3.71%          640.4  1658.6   \n",
              " 4      Phoenix  AZ       1673164     1608139  +4.04%          518.0  1341.6   \n",
              " \n",
              "   2020 density                                      Location  \n",
              "          / mi2  / km2                               Location  \n",
              " 0        29298  11312    40°40′N 73°56′W﻿ / ﻿40.66°N 73.94°W  \n",
              " 1         8304   3206  34°01′N 118°25′W﻿ / ﻿34.02°N 118.41°W  \n",
              " 2        12061   4657    41°50′N 87°41′W﻿ / ﻿41.84°N 87.68°W  \n",
              " 3         3599   1390    29°47′N 95°23′W﻿ / ﻿29.79°N 95.39°W  \n",
              " 4         3105   1199  33°34′N 112°05′W﻿ / ﻿33.57°N 112.09°W  )"
            ]
          },
          "metadata": {},
          "execution_count": 18
        }
      ]
    },
    {
      "cell_type": "markdown",
      "source": [
        "However, this scrapes all the tables on the webpage, not just the one we want. As with Beautiful Soup, we can narrow the search by specifying the table attributes."
      ],
      "metadata": {
        "id": "pQwWgh_cqynb"
      }
    },
    {
      "cell_type": "code",
      "source": [
        "import requests, pandas as pd\n",
        "from io import StringIO\n",
        "\n",
        "url = \"https://en.wikipedia.org/wiki/List_of_United_States_cities_by_population\"\n",
        "html = requests.get(url, headers={\"User-Agent\": \"Mozilla/5.0\"}).text\n",
        "\n",
        "tables = pd.read_html(StringIO(html), flavor=\"lxml\")\n",
        "df_cities2 = next(\n",
        "    df for df in tables\n",
        "    if any(\"city\" in str(c).lower() for c in df.columns)\n",
        "    and any(\"land area\" in str(c).lower() for c in df.columns)\n",
        ")\n",
        "df_cities2.shape, df_cities2.head()\n",
        "\n"
      ],
      "metadata": {
        "id": "4BKvPxa9qJ2-",
        "colab": {
          "base_uri": "https://localhost:8080/"
        },
        "outputId": "c2645228-9ad4-4f87-df93-3e0a9c2ce121"
      },
      "execution_count": 21,
      "outputs": [
        {
          "output_type": "execute_result",
          "data": {
            "text/plain": [
              "((346, 10),\n",
              "           City  ST 2024 estimate 2020 census  Change 2020 land area          \\\n",
              "           City  ST 2024 estimate 2020 census  Change            mi2     km2   \n",
              " 0  New York[c]  NY       8478072     8804190  −3.70%          300.5   778.3   \n",
              " 1  Los Angeles  CA       3878704     3898747  −0.51%          469.5  1216.0   \n",
              " 2      Chicago  IL       2721308     2746388  −0.91%          227.7   589.7   \n",
              " 3      Houston  TX       2390125     2304580  +3.71%          640.4  1658.6   \n",
              " 4      Phoenix  AZ       1673164     1608139  +4.04%          518.0  1341.6   \n",
              " \n",
              "   2020 density                                      Location  \n",
              "          / mi2  / km2                               Location  \n",
              " 0        29298  11312    40°40′N 73°56′W﻿ / ﻿40.66°N 73.94°W  \n",
              " 1         8304   3206  34°01′N 118°25′W﻿ / ﻿34.02°N 118.41°W  \n",
              " 2        12061   4657    41°50′N 87°41′W﻿ / ﻿41.84°N 87.68°W  \n",
              " 3         3599   1390    29°47′N 95°23′W﻿ / ﻿29.79°N 95.39°W  \n",
              " 4         3105   1199  33°34′N 112°05′W﻿ / ﻿33.57°N 112.09°W  )"
            ]
          },
          "metadata": {},
          "execution_count": 21
        }
      ]
    },
    {
      "cell_type": "markdown",
      "source": [
        "This still returns 3 tables. As we remarked above, the table that we want is the first one (see `[0]` below)."
      ],
      "metadata": {
        "id": "P6P7xCnPrBtS"
      }
    },
    {
      "cell_type": "code",
      "source": [
        "import requests\n",
        "import pandas as pd\n",
        "from io import StringIO\n",
        "\n",
        "url = \"https://en.wikipedia.org/wiki/List_of_United_States_cities_by_population\"\n",
        "html = requests.get(url, headers={\"User-Agent\": \"Mozilla/5.0\"}).text\n",
        "tables = pd.read_html(StringIO(html), flavor=\"lxml\")\n",
        "\n",
        "for i, t in enumerate(tables):\n",
        "    cols = [str(c).lower() for c in t.columns]\n",
        "    if any(\"city\" in c for c in cols) and any(\"land area\" in c for c in cols):\n",
        "        df_cities2 = t\n",
        "        print(\"✅ found table index:\", i)\n",
        "        break\n",
        "\n",
        "df_cities2.shape, df_cities2.head()\n",
        "\n"
      ],
      "metadata": {
        "id": "96L5qJvGp7ks",
        "colab": {
          "base_uri": "https://localhost:8080/"
        },
        "outputId": "6e79f9e9-cb11-4a49-997b-a05003aca66a"
      },
      "execution_count": 24,
      "outputs": [
        {
          "output_type": "stream",
          "name": "stdout",
          "text": [
            "✅ found table index: 2\n"
          ]
        },
        {
          "output_type": "execute_result",
          "data": {
            "text/plain": [
              "((346, 10),\n",
              "           City  ST 2024 estimate 2020 census  Change 2020 land area          \\\n",
              "           City  ST 2024 estimate 2020 census  Change            mi2     km2   \n",
              " 0  New York[c]  NY       8478072     8804190  −3.70%          300.5   778.3   \n",
              " 1  Los Angeles  CA       3878704     3898747  −0.51%          469.5  1216.0   \n",
              " 2      Chicago  IL       2721308     2746388  −0.91%          227.7   589.7   \n",
              " 3      Houston  TX       2390125     2304580  +3.71%          640.4  1658.6   \n",
              " 4      Phoenix  AZ       1673164     1608139  +4.04%          518.0  1341.6   \n",
              " \n",
              "   2020 density                                      Location  \n",
              "          / mi2  / km2                               Location  \n",
              " 0        29298  11312    40°40′N 73°56′W﻿ / ﻿40.66°N 73.94°W  \n",
              " 1         8304   3206  34°01′N 118°25′W﻿ / ﻿34.02°N 118.41°W  \n",
              " 2        12061   4657    41°50′N 87°41′W﻿ / ﻿41.84°N 87.68°W  \n",
              " 3         3599   1390    29°47′N 95°23′W﻿ / ﻿29.79°N 95.39°W  \n",
              " 4         3105   1199  33°34′N 112°05′W﻿ / ﻿33.57°N 112.09°W  )"
            ]
          },
          "metadata": {},
          "execution_count": 24
        }
      ]
    },
    {
      "cell_type": "markdown",
      "source": [
        "Wait, that seemed much easier than using Beautiful Soup, and it returned a data frame, and we even got for free some formatting like removing the commas from the population! Why didn't we just use `read_html` in the first place? It's true the `read_html` works well when scraping information from an HTML *table*. Unfortunately, you often want to scrape information from a webpage that isn't conveniently stored in an HTML table, in which case `read_html` won't work. (It only searches for `<table>`, `<th>`, `<tr>`, and `<td>` tags, but there are many other HTML tags.) Though Beautiful Soup is not as simple as `read_html`, it is more flexible and thus more widely applicable."
      ],
      "metadata": {
        "id": "TjeczIIMYeqj"
      }
    },
    {
      "cell_type": "markdown",
      "source": [
        "## Scraping information that is NOT in a `<table>` with Beautiful Soup"
      ],
      "metadata": {
        "id": "ctj79YpgX6hw"
      }
    },
    {
      "cell_type": "markdown",
      "metadata": {
        "id": "KK6rJQbuuWwF"
      },
      "source": [
        "The Cal Poly course catalog http://catalog.calpoly.edu/collegesandprograms/collegeofsciencemathematics/statistics/#courseinventory contains a list of courses offered by the Statistics department. **You will scrape this website to obtain a Pandas data frame with one row for each DATA or STAT course and two columns: course name and number (e.g, DATA 301. Introduction to Data Science) and term typically offered (e.g., Term Typically Offered: F, W, SP).**"
      ]
    },
    {
      "cell_type": "markdown",
      "source": [
        "Note: Pandas `read_html` is not help here since the courses are not stored in a `<table>.`"
      ],
      "metadata": {
        "id": "hbLLrwxs0eWd"
      }
    },
    {
      "cell_type": "code",
      "source": [
        "pd.read_html(\"http://catalog.calpoly.edu/collegesandprograms/collegeofsciencemathematics/statistics/#courseinventory\")"
      ],
      "metadata": {
        "id": "QIRewkca0jhz",
        "colab": {
          "base_uri": "https://localhost:8080/"
        },
        "outputId": "35043dd1-3ac9-46cf-c99c-147b568e103b"
      },
      "execution_count": 25,
      "outputs": [
        {
          "output_type": "execute_result",
          "data": {
            "text/plain": [
              "[                                        Program name   Program type\n",
              " 0                              Actuarial Preparation          Minor\n",
              " 1  Cross Disciplinary Studies Minor in Bioinforma...          Minor\n",
              " 2   Cross Disciplinary Studies Minor in Data Science          Minor\n",
              " 3                                         Statistics  BS, MS, Minor]"
            ]
          },
          "metadata": {},
          "execution_count": 25
        }
      ]
    },
    {
      "cell_type": "markdown",
      "source": [
        "\n",
        "Notes/suggestions:\n",
        "\n",
        "\n",
        "- Inspect the page source as you write your code\n",
        "- The courses are not stored in a `<table>`. How are they stored?\n",
        "- You will need to write a loop to get the information for all courses, but you might want to try just scraping the info for DATA 100 first\n",
        "- What kind of tag is the course name stored in? What is the `class` of the tag?\n",
        "- What kind of tag is the quarter(s) the course is offered stored in? What is the `class` of the tag? Is this the only tag of this type with the class? How will you get the one you want?\n",
        "- You don't have to remove the number of units (e.g., 4 units) from the course name and number, but you can try it if you want\n",
        "- You will need to pull the text from the tag. If `.text` returns text with \"\\n\" at the end, try `get_text(strip = True)` instead of `text`\n",
        "- Don't forget to convert to a Pandas Data Frame; it should have 74 rows and 2 columns\n",
        "- The goal of this exercise is just to create the Data Frame. If you were going to use it then you might need to clean the data first. (You can use Beautiful Soup to do some of the cleaning for you, but that goes beyond our scope.)\n",
        "\n"
      ],
      "metadata": {
        "id": "lvSrhxS4Se7a"
      }
    },
    {
      "cell_type": "code",
      "source": [
        "# YOUR CODE HERE. ADD AS MANY CELLS AS NEEDED"
      ],
      "metadata": {
        "id": "ZbW6xon4vICB"
      },
      "execution_count": null,
      "outputs": []
    },
    {
      "cell_type": "code",
      "source": [
        "import requests\n",
        "from bs4 import BeautifulSoup\n",
        "import pandas as pd\n",
        "\n",
        "url = \"http://catalog.calpoly.edu/collegesandprograms/collegeofsciencemathematics/statistics/#courseinventory\"\n",
        "html = requests.get(url, headers={\"User-Agent\": \"Mozilla/5.0\"}).text\n",
        "soup2 = BeautifulSoup(html, \"lxml\")\n",
        "\n",
        "blocks = soup2.find_all(\"div\", class_=\"courseblock\")\n",
        "rows = []\n",
        "for b in blocks:\n",
        "    t = b.find(\"p\", class_=\"courseblocktitle\")\n",
        "    if not t:\n",
        "        continue\n",
        "    raw = t.get_text(\" \", strip=True)\n",
        "    if not (raw.startswith(\"DATA\") or raw.startswith(\"STAT\")):\n",
        "        continue\n",
        "    s = t.find(\"span\")\n",
        "    if s:\n",
        "        s.extract()\n",
        "    course = t.get_text(\" \", strip=True)\n",
        "    term = \"\"\n",
        "    for p in b.find_all(\"p\", class_=\"noindent\"):\n",
        "        txt = p.get_text(\" \", strip=True)\n",
        "        if txt.lower().startswith(\"term typically offered\"):\n",
        "            term = txt.split(\":\", 1)[-1].strip()\n",
        "            break\n",
        "    rows.append({\"course\": course, \"term_typically_offered\": term})\n",
        "\n",
        "df_courses = pd.DataFrame(rows, columns=[\"course\",\"term_typically_offered\"])\n",
        "df_courses.shape, df_courses.head(12)\n"
      ],
      "metadata": {
        "id": "EW2sWIGavIFc",
        "colab": {
          "base_uri": "https://localhost:8080/"
        },
        "outputId": "4e4fb082-7f71-4421-ea30-ff648b56a4c8"
      },
      "execution_count": 26,
      "outputs": [
        {
          "output_type": "execute_result",
          "data": {
            "text/plain": [
              "((74, 2),\n",
              "                                                course term_typically_offered\n",
              " 0                   DATA 100. Data Science for All I.               F, W, SP\n",
              " 1             DATA 301. Introduction to Data Science.               F, W, SP\n",
              " 2          DATA 401. Data Science Process and Ethics.                      F\n",
              " 3   DATA 402. Mathematical Foundations of Data Sci...                      F\n",
              " 4         DATA 403. Data Science Projects Laboratory.                      F\n",
              " 5                DATA 441. Bioinformatics Capstone I.                      W\n",
              " 6               DATA 442. Bioinformatics Capstone II.                     SP\n",
              " 7                  DATA 451. Data Science Capstone I.                      W\n",
              " 8                 DATA 452. Data Science Capstone II.                     SP\n",
              " 9                     DATA 472. Data Science Seminar.               F, W, SP\n",
              " 10   STAT 130. Introduction to Statistical Reasoning.               F, W, SP\n",
              " 11  STAT 150. Introduction to the Discipline of St...                      F)"
            ]
          },
          "metadata": {},
          "execution_count": 26
        }
      ]
    },
    {
      "cell_type": "markdown",
      "source": [
        "Hints:\n",
        "\n",
        "- Each course is represented by a `<div>` with `class=courseblock`, so you can find all the courses with `soup.find_all(\"div\", {\"class\": \"courseblock\"})`\n",
        "- The course name is in a `<p>` tag with `class=courseblocktitle`, inside a `<strong>` tag. (Though I don't think we need to find the strong tag here.)\n",
        "- The term typically offered is in `<p>` tag with `class=noindent`. However, there are several tags with this class; term typically offered is the first one.\n",
        "- If you want to use Beautiful Soup to remove the course units (e.g., 4 units), find the `<span>` tag within the course name tag and `.extract()` this span tag"
      ],
      "metadata": {
        "id": "17e8M_OsaHJz"
      }
    }
  ]
}